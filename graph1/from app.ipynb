{
 "cells": [
  {
   "cell_type": "code",
   "execution_count": 6,
   "id": "5aacc27e",
   "metadata": {},
   "outputs": [],
   "source": [
    "import pandas as pd\n",
    "import matplotlib.pyplot as plt\n",
    "import seaborn as sns"
   ]
  },
  {
   "cell_type": "code",
   "execution_count": 7,
   "id": "c6049514",
   "metadata": {},
   "outputs": [],
   "source": [
    "dd = pd.read_csv('survey.csv')"
   ]
  },
  {
   "cell_type": "code",
   "execution_count": 8,
   "id": "08ec72aa",
   "metadata": {},
   "outputs": [
    {
     "data": {
      "text/html": [
       "<div>\n",
       "<style scoped>\n",
       "    .dataframe tbody tr th:only-of-type {\n",
       "        vertical-align: middle;\n",
       "    }\n",
       "\n",
       "    .dataframe tbody tr th {\n",
       "        vertical-align: top;\n",
       "    }\n",
       "\n",
       "    .dataframe thead th {\n",
       "        text-align: right;\n",
       "    }\n",
       "</style>\n",
       "<table border=\"1\" class=\"dataframe\">\n",
       "  <thead>\n",
       "    <tr style=\"text-align: right;\">\n",
       "      <th></th>\n",
       "      <th>id</th>\n",
       "      <th>latitude</th>\n",
       "      <th>longitude</th>\n",
       "      <th>issues</th>\n",
       "      <th>parking_duration</th>\n",
       "      <th>parking_time</th>\n",
       "      <th>comments</th>\n",
       "    </tr>\n",
       "  </thead>\n",
       "  <tbody>\n",
       "    <tr>\n",
       "      <th>0</th>\n",
       "      <td>1356</td>\n",
       "      <td>43.659967</td>\n",
       "      <td>-79.377875</td>\n",
       "      <td>['damaged']</td>\n",
       "      <td>['hours']</td>\n",
       "      <td>2019-06-01T14:42:10.000Z</td>\n",
       "      <td>Bike has been here forever</td>\n",
       "    </tr>\n",
       "    <tr>\n",
       "      <th>1</th>\n",
       "      <td>1398</td>\n",
       "      <td>43.705947</td>\n",
       "      <td>-79.442328</td>\n",
       "      <td>['not_provided']</td>\n",
       "      <td>['minutes']</td>\n",
       "      <td>2019-07-23T16:55:00.000Z</td>\n",
       "      <td>No bike parking anywhere close by. This is a b...</td>\n",
       "    </tr>\n",
       "    <tr>\n",
       "      <th>2</th>\n",
       "      <td>1435</td>\n",
       "      <td>43.687222</td>\n",
       "      <td>-79.398346</td>\n",
       "      <td>['not_provided']</td>\n",
       "      <td>['hours']</td>\n",
       "      <td>2019-08-23T19:25:38.000Z</td>\n",
       "      <td>NaN</td>\n",
       "    </tr>\n",
       "    <tr>\n",
       "      <th>3</th>\n",
       "      <td>407</td>\n",
       "      <td>43.647360</td>\n",
       "      <td>-79.395535</td>\n",
       "      <td>['full']</td>\n",
       "      <td>['hours']</td>\n",
       "      <td>2018-06-07T19:10:59.000Z</td>\n",
       "      <td>NaN</td>\n",
       "    </tr>\n",
       "    <tr>\n",
       "      <th>4</th>\n",
       "      <td>1465</td>\n",
       "      <td>43.658446</td>\n",
       "      <td>-79.359498</td>\n",
       "      <td>['damaged']</td>\n",
       "      <td>['hours']</td>\n",
       "      <td>2019-10-10T00:19:30.000Z</td>\n",
       "      <td>Several abandoned bikes on rack at Regent Park...</td>\n",
       "    </tr>\n",
       "    <tr>\n",
       "      <th>...</th>\n",
       "      <td>...</td>\n",
       "      <td>...</td>\n",
       "      <td>...</td>\n",
       "      <td>...</td>\n",
       "      <td>...</td>\n",
       "      <td>...</td>\n",
       "      <td>...</td>\n",
       "    </tr>\n",
       "    <tr>\n",
       "      <th>1304</th>\n",
       "      <td>1397</td>\n",
       "      <td>43.644368</td>\n",
       "      <td>-79.524084</td>\n",
       "      <td>['not_provided']</td>\n",
       "      <td>['hours']</td>\n",
       "      <td>2019-07-22T17:36:38.000Z</td>\n",
       "      <td>I regularly have appointments at Physiofirst a...</td>\n",
       "    </tr>\n",
       "    <tr>\n",
       "      <th>1305</th>\n",
       "      <td>1416</td>\n",
       "      <td>43.707229</td>\n",
       "      <td>-79.390679</td>\n",
       "      <td>['not_provided']</td>\n",
       "      <td>['minutes']</td>\n",
       "      <td>2019-08-05T14:59:57.000Z</td>\n",
       "      <td>NaN</td>\n",
       "    </tr>\n",
       "    <tr>\n",
       "      <th>1306</th>\n",
       "      <td>1434</td>\n",
       "      <td>43.641734</td>\n",
       "      <td>-79.421837</td>\n",
       "      <td>['damaged']</td>\n",
       "      <td>['minutes']</td>\n",
       "      <td>2019-08-20T21:07:42.000Z</td>\n",
       "      <td>NaN</td>\n",
       "    </tr>\n",
       "    <tr>\n",
       "      <th>1307</th>\n",
       "      <td>1464</td>\n",
       "      <td>43.665879</td>\n",
       "      <td>-79.468489</td>\n",
       "      <td>['not_provided']</td>\n",
       "      <td>['hours']</td>\n",
       "      <td>2019-10-05T16:56:56.000Z</td>\n",
       "      <td>These are wasted bollards at a popular interse...</td>\n",
       "    </tr>\n",
       "    <tr>\n",
       "      <th>1308</th>\n",
       "      <td>1515</td>\n",
       "      <td>43.665140</td>\n",
       "      <td>-79.411839</td>\n",
       "      <td>['full']</td>\n",
       "      <td>['minutes']</td>\n",
       "      <td>2020-07-31T20:03:00.000Z</td>\n",
       "      <td>Need another couple rings or a bike corral here.</td>\n",
       "    </tr>\n",
       "  </tbody>\n",
       "</table>\n",
       "<p>1309 rows × 7 columns</p>\n",
       "</div>"
      ],
      "text/plain": [
       "        id   latitude  longitude            issues parking_duration  \\\n",
       "0     1356  43.659967 -79.377875       ['damaged']        ['hours']   \n",
       "1     1398  43.705947 -79.442328  ['not_provided']      ['minutes']   \n",
       "2     1435  43.687222 -79.398346  ['not_provided']        ['hours']   \n",
       "3      407  43.647360 -79.395535          ['full']        ['hours']   \n",
       "4     1465  43.658446 -79.359498       ['damaged']        ['hours']   \n",
       "...    ...        ...        ...               ...              ...   \n",
       "1304  1397  43.644368 -79.524084  ['not_provided']        ['hours']   \n",
       "1305  1416  43.707229 -79.390679  ['not_provided']      ['minutes']   \n",
       "1306  1434  43.641734 -79.421837       ['damaged']      ['minutes']   \n",
       "1307  1464  43.665879 -79.468489  ['not_provided']        ['hours']   \n",
       "1308  1515  43.665140 -79.411839          ['full']      ['minutes']   \n",
       "\n",
       "                  parking_time  \\\n",
       "0     2019-06-01T14:42:10.000Z   \n",
       "1     2019-07-23T16:55:00.000Z   \n",
       "2     2019-08-23T19:25:38.000Z   \n",
       "3     2018-06-07T19:10:59.000Z   \n",
       "4     2019-10-10T00:19:30.000Z   \n",
       "...                        ...   \n",
       "1304  2019-07-22T17:36:38.000Z   \n",
       "1305  2019-08-05T14:59:57.000Z   \n",
       "1306  2019-08-20T21:07:42.000Z   \n",
       "1307  2019-10-05T16:56:56.000Z   \n",
       "1308  2020-07-31T20:03:00.000Z   \n",
       "\n",
       "                                               comments  \n",
       "0                            Bike has been here forever  \n",
       "1     No bike parking anywhere close by. This is a b...  \n",
       "2                                                   NaN  \n",
       "3                                                   NaN  \n",
       "4     Several abandoned bikes on rack at Regent Park...  \n",
       "...                                                 ...  \n",
       "1304  I regularly have appointments at Physiofirst a...  \n",
       "1305                                                NaN  \n",
       "1306                                                NaN  \n",
       "1307  These are wasted bollards at a popular interse...  \n",
       "1308   Need another couple rings or a bike corral here.  \n",
       "\n",
       "[1309 rows x 7 columns]"
      ]
     },
     "execution_count": 8,
     "metadata": {},
     "output_type": "execute_result"
    }
   ],
   "source": [
    "dd"
   ]
  },
  {
   "cell_type": "code",
   "execution_count": 9,
   "id": "10b8f9c0",
   "metadata": {},
   "outputs": [
    {
     "name": "stdout",
     "output_type": "stream",
     "text": [
      "     id   latitude  longitude            issues parking_duration  \\\n",
      "0  1356  43.659967 -79.377875       ['damaged']        ['hours']   \n",
      "1  1398  43.705947 -79.442328  ['not_provided']      ['minutes']   \n",
      "2  1435  43.687222 -79.398346  ['not_provided']        ['hours']   \n",
      "3   407  43.647360 -79.395535          ['full']        ['hours']   \n",
      "4  1465  43.658446 -79.359498       ['damaged']        ['hours']   \n",
      "\n",
      "               parking_time  \n",
      "0  2019-06-01T14:42:10.000Z  \n",
      "1  2019-07-23T16:55:00.000Z  \n",
      "2  2019-08-23T19:25:38.000Z  \n",
      "3  2018-06-07T19:10:59.000Z  \n",
      "4  2019-10-10T00:19:30.000Z  \n"
     ]
    }
   ],
   "source": [
    "ontario_data = dd[\n",
    "    (dd['latitude'] >= 41.676) & (dd['latitude'] <= 56.856) &  # Ontario latitude range\n",
    "    (dd['longitude'] >= -95.156) & (dd['longitude'] <= -74.343)  # Ontario longitude range\n",
    "]\n",
    "\n",
    "# Keep only relevant columns\n",
    "columns_to_keep = ['id', 'latitude', 'longitude', 'issues', 'parking_duration', 'parking_time']\n",
    "ontario_data = ontario_data[columns_to_keep]\n",
    "\n",
    "# Reset the index\n",
    "ontario_data.reset_index(drop=True, inplace=True)\n",
    "\n",
    "# Save the filtered dataset to a CSV file\n",
    "ontario_data.to_csv('ontario_filtered_data.csv', index=False)\n",
    "\n",
    "# Display the first few rows of the filtered data\n",
    "print(ontario_data.head())"
   ]
  },
  {
   "cell_type": "code",
   "execution_count": 10,
   "id": "ad51e7ef",
   "metadata": {
    "scrolled": true
   },
   "outputs": [
    {
     "name": "stdout",
     "output_type": "stream",
     "text": [
      "parking_duration\n",
      "['hours']                                                             591\n",
      "['minutes']                                                           393\n",
      "['multiday']                                                          119\n",
      "['overnight']                                                          66\n",
      "['>1hour']                                                             15\n",
      "['1-2hours']                                                           15\n",
      "['hours', 'minutes']                                                    9\n",
      "['hours', 'multiday']                                                   9\n",
      "['4-8hours']                                                            6\n",
      "['1-2hours', '1-2hours']                                                4\n",
      "['overnight+']                                                          3\n",
      "['hours', 'minutes', 'overnight', 'hours', 'multiday', 'multiday']      2\n",
      "['multiday', 'minutes', 'minutes']                                      2\n",
      "['hours', 'hours']                                                      2\n",
      "['hours', 'hours', 'hours']                                             2\n",
      "['minutes', 'multiday']                                                 2\n",
      "['hours', 'overnight', 'multiday']                                      1\n",
      "['>1hour', '>1hour', '4-8hours', '1-2hours', 'overnight+']              1\n",
      "['>1hour', '1-2hours', 'overnight+', '4-8hours']                        1\n",
      "['>1hour', '1-2hours']                                                  1\n",
      "['minutes', 'hours', 'overnight']                                       1\n",
      "['hours', 'overnight']                                                  1\n",
      "['hours', 'multiday', 'overnight']                                      1\n",
      "['hours', 'minutes', 'overnight', 'multiday']                           1\n",
      "['minutes', 'hours']                                                    1\n",
      "['minutes', 'overnight']                                                1\n",
      "['multiday', 'hours']                                                   1\n",
      "['hours', 'multiday', 'overnight', 'minutes']                           1\n",
      "['multiday', 'minutes', 'minutes', 'hours', 'multiday']                 1\n",
      "['4-8hours', '4-8hours']                                                1\n",
      "Name: count, dtype: int64\n"
     ]
    }
   ],
   "source": [
    "# Count the occurrences of each parking duration type\n",
    "duration_counts = ontario_data['parking_duration'].value_counts()\n",
    "\n",
    "# Display the counts for verification\n",
    "print(duration_counts)"
   ]
  },
  {
   "cell_type": "code",
   "execution_count": 11,
   "id": "8c469ff2",
   "metadata": {},
   "outputs": [
    {
     "name": "stdout",
     "output_type": "stream",
     "text": [
      "duration_category\n",
      "Hours        652\n",
      "Minutes      414\n",
      "Multiday     119\n",
      "Overnight     69\n",
      "Name: count, dtype: int64\n"
     ]
    }
   ],
   "source": [
    "def categorize_duration(duration):\n",
    "    if 'minute' in str(duration).lower():\n",
    "        return 'Minutes'\n",
    "    elif 'hour' in str(duration).lower():\n",
    "        return 'Hours'\n",
    "    elif 'overnight' in str(duration).lower():\n",
    "        return 'Overnight'\n",
    "    elif 'multiday' in str(duration).lower():\n",
    "        return 'Multiday'\n",
    "    else:\n",
    "        return 'Unknown'\n",
    "\n",
    "# Apply the function to create a new category column\n",
    "ontario_data['duration_category'] = ontario_data['parking_duration'].apply(categorize_duration)\n",
    "\n",
    "# Group by the new category column\n",
    "category_counts = ontario_data['duration_category'].value_cou\n",
    "nts()\n",
    "\n",
    "# Display the counts for each category\n",
    "print(category_counts)"
   ]
  },
  {
   "cell_type": "code",
   "execution_count": 12,
   "id": "1375b73a",
   "metadata": {},
   "outputs": [
    {
     "name": "stderr",
     "output_type": "stream",
     "text": [
      "/tmp/ipykernel_70/3338020659.py:2: FutureWarning: \n",
      "\n",
      "Passing `palette` without assigning `hue` is deprecated and will be removed in v0.14.0. Assign the `x` variable to `hue` and set `legend=False` for the same effect.\n",
      "\n",
      "  sns.barplot(x=category_counts.index, y=category_counts.values, palette='viridis')\n"
     ]
    },
    {
     "data": {
      "image/png": "[encoded data removed]",
      "text/plain": [
       "<Figure size 800x600 with 1 Axes>"
      ]
     },
     "metadata": {},
     "output_type": "display_data"
    }
   ],
   "source": [
    "plt.figure(figsize=(8, 6))\n",
    "sns.barplot(x=category_counts.index, y=category_counts.values, palette='viridis')\n",
    "\n",
    "# Add titles and labels\n",
    "plt.title('Parking Duration Demand', fontsize=16)\n",
    "plt.xlabel('Parking Duration Category', fontsize=12)\n",
    "plt.ylabel('Count', fontsize=12)\n",
    "plt.xticks(rotation=45)\n",
    "plt.grid(axis='y', linestyle='--', alpha=0.7)\n",
    "\n",
    "# Show the plot\n",
    "plt.tight_layout()\n",
    "plt.show()"
   ]
  },
  {
   "cell_type": "code",
   "execution_count": 13,
   "id": "11be5424",
   "metadata": {},
   "outputs": [],
   "source": [
    "from collections import Counter\n",
    "import ast"
   ]
  },
  {
   "cell_type": "code",
   "execution_count": 14,
   "id": "b12b9682",
   "metadata": {},
   "outputs": [],
   "source": [
    "issues_list = (dd['issues'].unique())"
   ]
  },
  {
   "cell_type": "code",
   "execution_count": 15,
   "id": "78b11e9f",
   "metadata": {},
   "outputs": [
    {
     "name": "stderr",
     "output_type": "stream",
     "text": [
      "/tmp/ipykernel_70/3822651574.py:49: FutureWarning: \n",
      "\n",
      "Passing `palette` without assigning `hue` is deprecated and will be removed in v0.14.0. Assign the `y` variable to `hue` and set `legend=False` for the same effect.\n",
      "\n",
      "  sns.barplot(x='Count', y='Issue', data=filtered_counts, palette='viridis')\n"
     ]
    },
    {
     "data": {
      "image/png": "[encoded data removed]",
      "text/plain": [
       "<Figure size 800x600 with 1 Axes>"
      ]
     },
     "metadata": {},
     "output_type": "display_data"
    }
   ],
   "source": [
    "issues_list = [\n",
    "    \"['damaged']\", \"['not_provided']\", \"['full']\", \"['other']\",\n",
    "    \"['not_provided', 'full', 'damaged', 'damaged', 'other']\",\n",
    "    \"['full', 'damaged']\", \"['full', 'not_provided']\",\n",
    "    \"['damaged', 'damaged', 'full']\", \"[]\", \"['not_provided', 'other']\",\n",
    "    \"['damaged', 'full']\", \"['damaged', 'other']\",\n",
    "    \"['not_provided', 'damaged', 'damaged']\", \"['not_provided', 'damaged']\",\n",
    "    \"['not_provided', 'full']\", \"['damaged', 'other', 'full', 'not_provided']\",\n",
    "    \"['damaged', 'damaged']\",\n",
    "    \"['other', 'damaged', 'damaged', 'full', 'not_provided']\",\n",
    "    \"['not_provided', 'full', 'damaged']\", \"['full', 'other']\",\n",
    "    \"['other', 'not_provided', 'damaged']\", \"['other', 'damaged']\",\n",
    "    \"['full', 'not_provided', 'damaged']\",\n",
    "    \"['damaged', 'not_provided', 'full']\", \"['full', 'damaged', 'other']\",\n",
    "    \"['not_provided', 'full', 'other', 'damaged', 'damaged']\",\n",
    "    \"['damaged', 'not_provided']\", \"['damaged', 'full', 'damaged']\",\n",
    "    \"['damaged', 'full', 'not_provided']\",\n",
    "    \"['not_provided', 'damaged', 'damaged', 'full']\",\n",
    "    \"['damaged', 'other', 'damaged']\", \"['other', 'not_provided']\",\n",
    "    \"['full', 'damaged', 'other', 'damaged']\",\n",
    "    \"['not_provided', 'damaged', 'abandoned', 'damaged', 'full']\",\n",
    "    \"['full', 'not_provided', 'damaged', 'damaged', 'abandoned']\",\n",
    "    \"['other', 'not_provided', 'full', 'damaged', 'damaged']\", \"['abandoned']\",\n",
    "    \"['abandoned', 'damaged']\",\n",
    "    \"['damaged', 'damaged', 'full', 'not_provided', 'other']\"\n",
    "]\n",
    "\n",
    "# Parse the string lists into actual Python lists\n",
    "parsed_issues = [ast.literal_eval(issue) for issue in issues_list]\n",
    "\n",
    "# Flatten the list to get all issues in a single list\n",
    "flattened_issues = [issue for sublist in parsed_issues for issue in sublist]\n",
    "\n",
    "# Replace 'not_provided' with 'no nearby parking'\n",
    "flattened_issues = ['no nearby parking' if issue == 'not_provided' else issue for issue in flattened_issues]\n",
    "\n",
    "# Count the occurrences of each issue\n",
    "issue_counts = Counter(flattened_issues)\n",
    "\n",
    "# Convert the counts to a DataFrame for visualization\n",
    "issue_counts_df = pd.DataFrame(issue_counts.items(), columns=['Issue', 'Count']).sort_values(by='Count', ascending=False)\n",
    "\n",
    "# Filter to keep only the categories of interest\n",
    "categories_to_keep = ['full', 'damaged', 'no nearby parking', 'other', 'abandoned']\n",
    "filtered_counts = issue_counts_df[issue_counts_df['Issue'].isin(categories_to_keep)]\n",
    "\n",
    "# Plot the bar graph\n",
    "plt.figure(figsize=(8, 6))\n",
    "sns.barplot(x='Count', y='Issue', data=filtered_counts, palette='viridis')\n",
    "\n",
    "# Add labels and title\n",
    "plt.title('Counts of Issues Reported', fontsize=16)\n",
    "plt.xlabel('Count', fontsize=12)\n",
    "plt.ylabel('Issue Category', fontsize=12)\n",
    "\n",
    "# Show the plot\n",
    "plt.tight_layout()\n",
    "plt.show()"
   ]
  },
  {
   "cell_type": "code",
   "execution_count": 16,
   "id": "f98b0b0b",
   "metadata": {},
   "outputs": [],
   "source": [
    "# Convert parking_time to datetime\n",
    "dd['parking_time'] = pd.to_datetime(dd['parking_time'], errors='coerce')\n",
    "\n",
    "# Drop rows with invalid or missing parking_time\n",
    "dd = dd.dropna(subset=['parking_time'])\n",
    "\n",
    "# Extract the day of the week from parking_time\n",
    "dd['day_of_week'] = dd['parking_time'].dt.day_name()"
   ]
  },
  {
   "cell_type": "code",
   "execution_count": 17,
   "id": "c7e32162",
   "metadata": {},
   "outputs": [
    {
     "name": "stdout",
     "output_type": "stream",
     "text": [
      "day_of_week\n",
      "Monday       168\n",
      "Tuesday      185\n",
      "Wednesday    289\n",
      "Thursday     229\n",
      "Friday       187\n",
      "Saturday     133\n",
      "Sunday       118\n",
      "Name: count, dtype: int64\n"
     ]
    }
   ],
   "source": [
    "day_counts = dd['day_of_week'].value_counts()\n",
    "\n",
    "# Reorder days of the week for proper order\n",
    "day_counts = day_counts.reindex(['Monday', 'Tuesday', 'Wednesday', 'Thursday', 'Friday', 'Saturday', 'Sunday'])\n",
    "\n",
    "# Display the counts\n",
    "print(day_counts)"
   ]
  },
  {
   "cell_type": "code",
   "execution_count": 18,
   "id": "6d263a67",
   "metadata": {},
   "outputs": [
    {
     "name": "stderr",
     "output_type": "stream",
     "text": [
      "/tmp/ipykernel_70/400220403.py:2: FutureWarning: \n",
      "\n",
      "Passing `palette` without assigning `hue` is deprecated and will be removed in v0.14.0. Assign the `x` variable to `hue` and set `legend=False` for the same effect.\n",
      "\n",
      "  sns.barplot(x=day_counts.index, y=day_counts.values, palette='coolwarm')\n"
     ]
    },
    {
     "data": {
      "image/png": "[encoded data removed]",
      "text/plain": [
       "<Figure size 800x600 with 1 Axes>"
      ]
     },
     "metadata": {},
     "output_type": "display_data"
    }
   ],
   "source": [
    "plt.figure(figsize=(8, 6))\n",
    "sns.barplot(x=day_counts.index, y=day_counts.values, palette='coolwarm')\n",
    "\n",
    "# Add labels and title\n",
    "plt.title('Frequency of Activity by Day of the Week', fontsize=16)\n",
    "plt.xlabel('Day of the Week', fontsize=12)\n",
    "plt.ylabel('Frequency', fontsize=12)\n",
    "\n",
    "# Show the graph\n",
    "plt.tight_layout()\n",
    "plt.show()"
   ]
  },
  {
   "cell_type": "code",
   "execution_count": null,
   "id": "0628c8b4",
   "metadata": {},
   "outputs": [],
   "source": []
  },
  {
   "cell_type": "code",
   "execution_count": null,
   "id": "79b2979c",
   "metadata": {},
   "outputs": [],
   "source": []
  },
  {
   "cell_type": "code",
   "execution_count": null,
   "id": "f63f9f0c",
   "metadata": {},
   "outputs": [],
   "source": []
  },
  {
   "cell_type": "code",
   "execution_count": null,
   "id": "912962b9",
   "metadata": {},
   "outputs": [],
   "source": []
  },
  {
   "cell_type": "code",
   "execution_count": null,
   "id": "0222aeba",
   "metadata": {},
   "outputs": [],
   "source": []
  },
  {
   "cell_type": "code",
   "execution_count": null,
   "id": "52e553b8",
   "metadata": {},
   "outputs": [],
   "source": []
  }
 ],
 "metadata": {
  "kernelspec": {
   "display_name": "Python 3 (ipykernel)",
   "language": "python",
   "name": "python3"
  },
  "language_info": {
   "codemirror_mode": {
    "name": "ipython",
    "version": 3
   },
   "file_extension": ".py",
   "mimetype": "text/x-python",
   "name": "python",
   "nbconvert_exporter": "python",
   "pygments_lexer": "ipython3",
   "version": "3.11.6"
  }
 },
 "nbformat": 4,
 "nbformat_minor": 5
}
